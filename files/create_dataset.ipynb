{
  "cells": [
    {
      "cell_type": "code",
      "metadata": {
        "source_hash": null,
        "execution_start": 1717943123031,
        "execution_millis": 4185,
        "deepnote_to_be_reexecuted": false,
        "deepnote_app_block_visible": true,
        "cell_id": "afe1f25d5f9d4fa0921c5964da89b2a2",
        "deepnote_cell_type": "code"
      },
      "source": "!pip install asyncio aiohttp nest_asyncio",
      "execution_count": null,
      "outputs": [
        {
          "name": "stdout",
          "text": "Collecting asyncio\n  Downloading asyncio-3.4.3-py3-none-any.whl (101 kB)\n\u001b[2K     \u001b[90m\u2501\u2501\u2501\u2501\u2501\u2501\u2501\u2501\u2501\u2501\u2501\u2501\u2501\u2501\u2501\u2501\u2501\u2501\u2501\u2501\u2501\u2501\u2501\u2501\u2501\u2501\u2501\u2501\u2501\u2501\u2501\u2501\u2501\u2501\u2501\u2501\u2501\u2501\u001b[0m \u001b[32m101.8/101.8 kB\u001b[0m \u001b[31m21.6 MB/s\u001b[0m eta \u001b[36m0:00:00\u001b[0m\n\u001b[?25hCollecting aiohttp\n  Downloading aiohttp-3.9.5-cp39-cp39-manylinux_2_17_x86_64.manylinux2014_x86_64.whl (1.2 MB)\n\u001b[2K     \u001b[90m\u2501\u2501\u2501\u2501\u2501\u2501\u2501\u2501\u2501\u2501\u2501\u2501\u2501\u2501\u2501\u2501\u2501\u2501\u2501\u2501\u2501\u2501\u2501\u2501\u2501\u2501\u2501\u2501\u2501\u2501\u2501\u2501\u2501\u2501\u2501\u2501\u2501\u2501\u2501\u2501\u001b[0m \u001b[32m1.2/1.2 MB\u001b[0m \u001b[31m95.4 MB/s\u001b[0m eta \u001b[36m0:00:00\u001b[0m\n\u001b[?25hRequirement already satisfied: nest_asyncio in /shared-libs/python3.9/py-core/lib/python3.9/site-packages (1.5.6)\nCollecting aiosignal>=1.1.2\n  Downloading aiosignal-1.3.1-py3-none-any.whl (7.6 kB)\nRequirement already satisfied: attrs>=17.3.0 in /shared-libs/python3.9/py-core/lib/python3.9/site-packages (from aiohttp) (22.1.0)\nCollecting multidict<7.0,>=4.5\n  Downloading multidict-6.0.5-cp39-cp39-manylinux_2_17_x86_64.manylinux2014_x86_64.whl (123 kB)\n\u001b[2K     \u001b[90m\u2501\u2501\u2501\u2501\u2501\u2501\u2501\u2501\u2501\u2501\u2501\u2501\u2501\u2501\u2501\u2501\u2501\u2501\u2501\u2501\u2501\u2501\u2501\u2501\u2501\u2501\u2501\u2501\u2501\u2501\u2501\u2501\u2501\u2501\u2501\u2501\u2501\u2501\u001b[0m \u001b[32m123.8/123.8 kB\u001b[0m \u001b[31m32.2 MB/s\u001b[0m eta \u001b[36m0:00:00\u001b[0m\n\u001b[?25hCollecting yarl<2.0,>=1.0\n  Downloading yarl-1.9.4-cp39-cp39-manylinux_2_17_x86_64.manylinux2014_x86_64.whl (304 kB)\n\u001b[2K     \u001b[90m\u2501\u2501\u2501\u2501\u2501\u2501\u2501\u2501\u2501\u2501\u2501\u2501\u2501\u2501\u2501\u2501\u2501\u2501\u2501\u2501\u2501\u2501\u2501\u2501\u2501\u2501\u2501\u2501\u2501\u2501\u2501\u2501\u2501\u2501\u2501\u2501\u2501\u2501\u001b[0m \u001b[32m304.3/304.3 kB\u001b[0m \u001b[31m50.8 MB/s\u001b[0m eta \u001b[36m0:00:00\u001b[0m\n\u001b[?25hCollecting frozenlist>=1.1.1\n  Downloading frozenlist-1.4.1-cp39-cp39-manylinux_2_5_x86_64.manylinux1_x86_64.manylinux_2_17_x86_64.manylinux2014_x86_64.whl (240 kB)\n\u001b[2K     \u001b[90m\u2501\u2501\u2501\u2501\u2501\u2501\u2501\u2501\u2501\u2501\u2501\u2501\u2501\u2501\u2501\u2501\u2501\u2501\u2501\u2501\u2501\u2501\u2501\u2501\u2501\u2501\u2501\u2501\u2501\u2501\u2501\u2501\u2501\u2501\u2501\u2501\u2501\u2501\u001b[0m \u001b[32m240.7/240.7 kB\u001b[0m \u001b[31m56.6 MB/s\u001b[0m eta \u001b[36m0:00:00\u001b[0m\n\u001b[?25hCollecting async-timeout<5.0,>=4.0\n  Downloading async_timeout-4.0.3-py3-none-any.whl (5.7 kB)\nRequirement already satisfied: idna>=2.0 in /shared-libs/python3.9/py-core/lib/python3.9/site-packages (from yarl<2.0,>=1.0->aiohttp) (3.4)\nInstalling collected packages: asyncio, multidict, frozenlist, async-timeout, yarl, aiosignal, aiohttp\nSuccessfully installed aiohttp-3.9.5 aiosignal-1.3.1 async-timeout-4.0.3 asyncio-3.4.3 frozenlist-1.4.1 multidict-6.0.5 yarl-1.9.4\n\n\u001b[1m[\u001b[0m\u001b[34;49mnotice\u001b[0m\u001b[1;39;49m]\u001b[0m\u001b[39;49m A new release of pip is available: \u001b[0m\u001b[31;49m23.0.1\u001b[0m\u001b[39;49m -> \u001b[0m\u001b[32;49m24.0\u001b[0m\n\u001b[1m[\u001b[0m\u001b[34;49mnotice\u001b[0m\u001b[1;39;49m]\u001b[0m\u001b[39;49m To update, run: \u001b[0m\u001b[32;49mpip install --upgrade pip\u001b[0m\n",
          "output_type": "stream"
        }
      ]
    },
    {
      "cell_type": "code",
      "metadata": {
        "source_hash": null,
        "execution_start": 1717943127219,
        "execution_millis": 250,
        "deepnote_to_be_reexecuted": false,
        "deepnote_app_block_visible": true,
        "cell_id": "cfbcbb5709ae4f82a5f764a80f91f855",
        "deepnote_cell_type": "code"
      },
      "source": "import asyncio\nimport nest_asyncio\nimport aiohttp\nimport pandas as pd\nimport os\nimport json\nimport logging\n",
      "execution_count": null,
      "outputs": []
    },
    {
      "cell_type": "markdown",
      "metadata": {
        "is_collapsed": false,
        "formattedRanges": [],
        "deepnote_app_block_visible": true,
        "cell_id": "45b4ee880ef64b87ad27c135ee1a6b10",
        "deepnote_cell_type": "text-cell-h1"
      },
      "source": "# IMPLEMENTATION"
    },
    {
      "cell_type": "markdown",
      "metadata": {
        "formattedRanges": [
          {
            "type": "marks",
            "marks": {
              "italic": true
            },
            "toCodePoint": 14,
            "fromCodePoint": 0
          }
        ],
        "deepnote_app_block_visible": true,
        "cell_id": "ca2c217056a84b3c8bc3934e75fcdf22",
        "deepnote_cell_type": "text-cell-h2"
      },
      "source": "## Api Definition"
    },
    {
      "cell_type": "code",
      "metadata": {
        "source_hash": null,
        "execution_start": 1717943127290,
        "execution_millis": 179,
        "deepnote_to_be_reexecuted": false,
        "deepnote_app_block_visible": true,
        "cell_id": "e304329ff5b34161b797aa6260ec90c7",
        "deepnote_cell_type": "code"
      },
      "source": "API_KEY = os.environ[\"TMDB_API\"]",
      "execution_count": null,
      "outputs": []
    },
    {
      "cell_type": "markdown",
      "metadata": {
        "is_collapsed": false,
        "formattedRanges": [
          {
            "type": "marks",
            "marks": {
              "italic": true
            },
            "toCodePoint": 19,
            "fromCodePoint": 0
          }
        ],
        "deepnote_app_block_visible": true,
        "cell_id": "b6d14902563a430caa655d1d407ef6ba",
        "deepnote_cell_type": "text-cell-h2"
      },
      "source": "## Applying event loop"
    },
    {
      "cell_type": "code",
      "metadata": {
        "source_hash": null,
        "execution_start": 1717943127295,
        "execution_millis": 174,
        "deepnote_to_be_reexecuted": false,
        "deepnote_app_block_visible": true,
        "cell_id": "43554b9eebe0450aae721c402eea21c9",
        "deepnote_cell_type": "code"
      },
      "source": "nest_asyncio.apply()",
      "execution_count": null,
      "outputs": []
    },
    {
      "cell_type": "markdown",
      "metadata": {
        "formattedRanges": [],
        "deepnote_app_block_visible": true,
        "cell_id": "a88d7ae559e04154bc217c6b7221d398",
        "deepnote_cell_type": "text-cell-h1"
      },
      "source": "# Functions:"
    },
    {
      "cell_type": "markdown",
      "metadata": {
        "formattedRanges": [
          {
            "type": "marks",
            "marks": {
              "italic": true
            },
            "toCodePoint": 39,
            "fromCodePoint": 0
          }
        ],
        "deepnote_app_block_visible": true,
        "cell_id": "88b30e4048124aac82f59a3cab916dd4",
        "deepnote_cell_type": "text-cell-h2"
      },
      "source": "## Fetching the TMDB page for given \"year\""
    },
    {
      "cell_type": "code",
      "metadata": {
        "source_hash": null,
        "execution_start": 1717943127312,
        "execution_millis": 157,
        "deepnote_to_be_reexecuted": false,
        "deepnote_app_block_visible": true,
        "cell_id": "b2a60b5c764d497e97f7c9b322ca7684",
        "deepnote_cell_type": "code"
      },
      "source": "async def fetch_page(Session, year,page):\n    url = f'https://api.themoviedb.org/3/discover/movie?api_key={API_KEY}&primary_release_date.gte={year}-01-01&primary_release_date.lte={year}-12-31&\\\n    sort_by=popularity.desc&language=en-US'\n    async with Session.get(url) as response:\n        return await response.json()\n        ",
      "execution_count": null,
      "outputs": []
    },
    {
      "cell_type": "markdown",
      "metadata": {
        "formattedRanges": [
          {
            "type": "marks",
            "marks": {
              "italic": true
            },
            "toCodePoint": 27,
            "fromCodePoint": 0
          }
        ],
        "deepnote_app_block_visible": true,
        "cell_id": "152311bc6c464ffc90e9a2fea7b09a3f",
        "deepnote_cell_type": "text-cell-h2"
      },
      "source": "## Fetching each movie details"
    },
    {
      "cell_type": "code",
      "metadata": {
        "source_hash": null,
        "execution_start": 1717943127313,
        "execution_millis": 157,
        "deepnote_to_be_reexecuted": false,
        "deepnote_app_block_visible": true,
        "cell_id": "906351d203524e02a5965ea76ea01854",
        "deepnote_cell_type": "code"
      },
      "source": "async def fetch_movie_details(Session, movie_id):\n    url = f\"https://api.themoviedb.org/3/movie/{movie_id}?api_key={API_KEY}&language=en-US\"\n    async with Session.get(url) as response:\n        return await response.json()",
      "execution_count": null,
      "outputs": []
    },
    {
      "cell_type": "markdown",
      "metadata": {
        "formattedRanges": [
          {
            "type": "marks",
            "marks": {
              "italic": true
            },
            "toCodePoint": 31,
            "fromCodePoint": 0
          }
        ],
        "deepnote_app_block_visible": true,
        "cell_id": "56edd951a07944e79b4e34dc3831db18",
        "deepnote_cell_type": "text-cell-h2"
      },
      "source": "## Fetching Credits for each movie"
    },
    {
      "cell_type": "code",
      "metadata": {
        "source_hash": null,
        "execution_start": 1717943127313,
        "execution_millis": 157,
        "deepnote_to_be_reexecuted": false,
        "deepnote_app_block_visible": true,
        "cell_id": "ab4282ef085745bf86c4e08245e7e40e",
        "deepnote_cell_type": "code"
      },
      "source": "async def credits(session, movie_id):\n    url = f'https://api.themoviedb.org/3/movie/{movie_id}/credits?api_key={API_KEY}&language=en-US'\n\n    async with session.get(url) as response:\n        return await response.json()",
      "execution_count": null,
      "outputs": []
    },
    {
      "cell_type": "markdown",
      "metadata": {
        "formattedRanges": [
          {
            "type": "marks",
            "marks": {
              "italic": true
            },
            "toCodePoint": 32,
            "fromCodePoint": 0
          }
        ],
        "deepnote_app_block_visible": true,
        "cell_id": "a863c928c32b4c7087cf218b944ddcc7",
        "deepnote_cell_type": "text-cell-h2"
      },
      "source": "## Fetching keywords for each movie"
    },
    {
      "cell_type": "code",
      "metadata": {
        "source_hash": null,
        "execution_start": 1717943127314,
        "execution_millis": 156,
        "deepnote_to_be_reexecuted": false,
        "deepnote_app_block_visible": true,
        "cell_id": "367fe9e8dbc241aaaae9ccce06a58aea",
        "deepnote_cell_type": "code"
      },
      "source": "async def keywords(session, movie_id):\n    url = f'https://api.themoviedb.org/3/movie/{movie_id}/keywords?api_key={API_KEY}&language=en-US'\n\n    async with session.get(url) as response:\n        return await response.json()",
      "execution_count": null,
      "outputs": []
    },
    {
      "cell_type": "markdown",
      "metadata": {
        "formattedRanges": [
          {
            "type": "marks",
            "marks": {
              "italic": true
            },
            "toCodePoint": 5,
            "fromCodePoint": 0
          }
        ],
        "deepnote_app_block_visible": true,
        "cell_id": "ddc8345c568d4af18af5108038efa85b",
        "deepnote_cell_type": "text-cell-h2"
      },
      "source": "## Main "
    },
    {
      "cell_type": "markdown",
      "metadata": {
        "formattedRanges": [],
        "deepnote_app_block_visible": true,
        "cell_id": "26f9d40e17c14ecca62d0aafff79af24",
        "deepnote_cell_type": "text-cell-p"
      },
      "source": "Here we use all function defined above to create the final movie data set"
    },
    {
      "cell_type": "code",
      "metadata": {
        "source_hash": null,
        "execution_start": 1717943127366,
        "execution_millis": 104,
        "deepnote_to_be_reexecuted": false,
        "deepnote_app_block_visible": true,
        "cell_id": "acdbbf976c574c0dbc9c2af46aaf0044",
        "deepnote_cell_type": "code"
      },
      "source": "async def main(year):\n    async with aiohttp.ClientSession() as Session:\n        # fetching the tmdb movie page\n        tasks = [fetch_page(Session,year, i) for i in range(1,201)]\n        page_response = await asyncio.gather(*tasks)\n        \n        data_frame = [pd.DataFrame(response[\"results\"]) for response in page_response]\n        \n        data = pd.concat(data_frame, ignore_index= True)\n        # fetching the movie details\n        movie_details = [fetch_movie_details(Session, i) for i in data.id.values]\n\n        details_response = await asyncio.gather(*movie_details)\n\n        # fetching keywords\n        task = [keywords(Session,i) for i in data.id.values]\n\n        key_response = await asyncio.gather(*task)\n        # fetching the credits\n        credit_task = [credits(Session,i) for i in data.id.values]\n\n        credit_response = await asyncio.gather(*credit_task)\n\n        # list for storing the row\n        details_list = []\n\n        for response, key, credit, movie_id in zip(details_response,key_response, credit_response, data.id.values):\n            if response['budget'] > 0:\n                top_cast = credit.get('cast', [])[:5]\n                top_crew = credit.get('crew', [])[:5]\n                \n                try:\n                    new_rows = {\n                        'id': movie_id,\n                        'imdb_id': response.get('imdb_id'),\n                        'title': response.get('title'),\n                        'original_language': response.get('original_language'),\n                        'original_title': response.get('original_title'),\n                        'origin_country': ', '.join(response.get('origin_country')),\n                        'production_companies': ', '.join([company.get('name') for company in response.get('production_companies')]),\n                        'production_countries': ', '.join([country.get('name') for country in response.get('production_countries')]),\n                        'runtime_in_mins': response.get('runtime'),\n                        'spoken_languages': ', '.join([lang.get('name') for lang in response.get('spoken_languages')]),\n                        'status': response.get('status'),\n                        'tagline': response.get('tagline'),\n                        'homepage': response.get('homepage'),\n                        'popularity': response.get('popularity'),\n                        'release_date': response.get('release_date'),\n                        'overview': response.get('overview'),\n                        'vote_count': response.get('vote_count'),\n                        'vote_average': response.get('vote_average'),\n                        'keywords': \", \".join([keyword.get('name') for keyword in key.get('keywords')]),\n                        'cast': \", \".join([cast.get(\"name\") for cast in top_cast]),\n                        'crew': \", \".join([crew.get(\"name\") for crew in top_crew]),\n                        'revenue': response.get('revenue')\n                    }\n                    # appending the rows to details_list\n                    details_list.append(new_rows)\n                except Exception as e:\n                    logging.error(f'error in proccesing movie_id {movie_id};  {traceback.format_exc()}\"')\n        # creating the DataFrame using the details_list\n        Details_data = pd.DataFrame(details_list)\n        return Details_data\n",
      "execution_count": null,
      "outputs": []
    },
    {
      "cell_type": "markdown",
      "metadata": {
        "formattedRanges": [],
        "deepnote_app_block_visible": true,
        "cell_id": "bacadc4e05ec44e29cbb75bde391ba47",
        "deepnote_cell_type": "text-cell-h1"
      },
      "source": "# Calling Main function"
    },
    {
      "cell_type": "code",
      "metadata": {
        "source_hash": null,
        "execution_start": 1717943127366,
        "execution_millis": 8841,
        "deepnote_to_be_reexecuted": false,
        "deepnote_app_block_visible": true,
        "cell_id": "2ec383e44d24497bb6a871fe209b4a9e",
        "deepnote_cell_type": "code"
      },
      "source": "data = asyncio.run(main(2021))",
      "execution_count": null,
      "outputs": []
    },
    {
      "cell_type": "code",
      "metadata": {
        "source_hash": null,
        "execution_start": 1717943136214,
        "execution_millis": 156,
        "deepnote_to_be_reexecuted": false,
        "deepnote_app_block_visible": true,
        "cell_id": "15fcc16f5a4d4a8d8e837b4b81871ed5",
        "deepnote_cell_type": "code"
      },
      "source": "data.head()",
      "execution_count": null,
      "outputs": [
        {
          "output_type": "execute_result",
          "execution_count": 11,
          "data": {
            "application/vnd.deepnote.dataframe.v3+json": {
              "column_count": 22,
              "row_count": 5,
              "columns": [
                {
                  "name": "id",
                  "dtype": "int64",
                  "stats": {
                    "unique_count": 5,
                    "nan_count": 0,
                    "min": "438631",
                    "max": "634649",
                    "histogram": [
                      {
                        "bin_start": 438631,
                        "bin_end": 458232.8,
                        "count": 1
                      },
                      {
                        "bin_start": 458232.8,
                        "bin_end": 477834.6,
                        "count": 0
                      },
                      {
                        "bin_start": 477834.6,
                        "bin_end": 497436.4,
                        "count": 0
                      },
                      {
                        "bin_start": 497436.4,
                        "bin_end": 517038.2,
                        "count": 1
                      },
                      {
                        "bin_start": 517038.2,
                        "bin_end": 536640,
                        "count": 0
                      },
                      {
                        "bin_start": 536640,
                        "bin_end": 556241.8,
                        "count": 0
                      },
                      {
                        "bin_start": 556241.8,
                        "bin_end": 575843.6,
                        "count": 0
                      },
                      {
                        "bin_start": 575843.6,
                        "bin_end": 595445.4,
                        "count": 1
                      },
                      {
                        "bin_start": 595445.4,
                        "bin_end": 615047.2,
                        "count": 0
                      },
                      {
                        "bin_start": 615047.2,
                        "bin_end": 634649,
                        "count": 2
                      }
                    ]
                  }
                },
                {
                  "name": "imdb_id",
                  "dtype": "object",
                  "stats": {
                    "unique_count": 5,
                    "nan_count": 0,
                    "categories": [
                      {
                        "name": "tt1160419",
                        "count": 1
                      },
                      {
                        "name": "tt7097896",
                        "count": 1
                      },
                      {
                        "name": "3 others",
                        "count": 3
                      }
                    ]
                  }
                },
                {
                  "name": "title",
                  "dtype": "object",
                  "stats": {
                    "unique_count": 5,
                    "nan_count": 0,
                    "categories": [
                      {
                        "name": "Dune",
                        "count": 1
                      },
                      {
                        "name": "Venom: Let There Be Carnage",
                        "count": 1
                      },
                      {
                        "name": "3 others",
                        "count": 3
                      }
                    ]
                  }
                },
                {
                  "name": "original_language",
                  "dtype": "object",
                  "stats": {
                    "unique_count": 1,
                    "nan_count": 0,
                    "categories": [
                      {
                        "name": "en",
                        "count": 5
                      }
                    ]
                  }
                },
                {
                  "name": "original_title",
                  "dtype": "object",
                  "stats": {
                    "unique_count": 5,
                    "nan_count": 0,
                    "categories": [
                      {
                        "name": "Dune",
                        "count": 1
                      },
                      {
                        "name": "Venom: Let There Be Carnage",
                        "count": 1
                      },
                      {
                        "name": "3 others",
                        "count": 3
                      }
                    ]
                  }
                },
                {
                  "name": "origin_country",
                  "dtype": "object",
                  "stats": {
                    "unique_count": 1,
                    "nan_count": 0,
                    "categories": [
                      {
                        "name": "US",
                        "count": 5
                      }
                    ]
                  }
                },
                {
                  "name": "production_companies",
                  "dtype": "object",
                  "stats": {
                    "unique_count": 5,
                    "nan_count": 0,
                    "categories": [
                      {
                        "name": "Legendary Pictures",
                        "count": 1
                      },
                      {
                        "name": "Columbia Pictures, Pascal Pictures, Matt Tolmach Productions, Arad Productions",
                        "count": 1
                      },
                      {
                        "name": "3 others",
                        "count": 3
                      }
                    ]
                  }
                },
                {
                  "name": "production_countries",
                  "dtype": "object",
                  "stats": {
                    "unique_count": 1,
                    "nan_count": 0,
                    "categories": [
                      {
                        "name": "United States of America",
                        "count": 5
                      }
                    ]
                  }
                },
                {
                  "name": "runtime_in_mins",
                  "dtype": "int64",
                  "stats": {
                    "unique_count": 5,
                    "nan_count": 0,
                    "min": "92",
                    "max": "155",
                    "histogram": [
                      {
                        "bin_start": 92,
                        "bin_end": 98.3,
                        "count": 2
                      },
                      {
                        "bin_start": 98.3,
                        "bin_end": 104.6,
                        "count": 0
                      },
                      {
                        "bin_start": 104.6,
                        "bin_end": 110.9,
                        "count": 0
                      },
                      {
                        "bin_start": 110.9,
                        "bin_end": 117.2,
                        "count": 0
                      },
                      {
                        "bin_start": 117.2,
                        "bin_end": 123.5,
                        "count": 0
                      },
                      {
                        "bin_start": 123.5,
                        "bin_end": 129.8,
                        "count": 0
                      },
                      {
                        "bin_start": 129.8,
                        "bin_end": 136.1,
                        "count": 1
                      },
                      {
                        "bin_start": 136.1,
                        "bin_end": 142.4,
                        "count": 0
                      },
                      {
                        "bin_start": 142.4,
                        "bin_end": 148.7,
                        "count": 1
                      },
                      {
                        "bin_start": 148.7,
                        "bin_end": 155,
                        "count": 1
                      }
                    ]
                  }
                },
                {
                  "name": "spoken_languages",
                  "dtype": "object",
                  "stats": {
                    "unique_count": 5,
                    "nan_count": 0,
                    "categories": [
                      {
                        "name": "\u666e\u901a\u8bdd, English",
                        "count": 1
                      },
                      {
                        "name": "English, Espa\u00f1ol",
                        "count": 1
                      },
                      {
                        "name": "3 others",
                        "count": 3
                      }
                    ]
                  }
                },
                {
                  "name": "status",
                  "dtype": "object",
                  "stats": {
                    "unique_count": 1,
                    "nan_count": 0,
                    "categories": [
                      {
                        "name": "Released",
                        "count": 5
                      }
                    ]
                  }
                },
                {
                  "name": "tagline",
                  "dtype": "object",
                  "stats": {
                    "unique_count": 5,
                    "nan_count": 0,
                    "categories": [
                      {
                        "name": "It begins.",
                        "count": 1
                      },
                      {
                        "name": "",
                        "count": 1
                      },
                      {
                        "name": "3 others",
                        "count": 3
                      }
                    ]
                  }
                },
                {
                  "name": "homepage",
                  "dtype": "object",
                  "stats": {
                    "unique_count": 5,
                    "nan_count": 0,
                    "categories": [
                      {
                        "name": "https://www.dunemovie.com/",
                        "count": 1
                      },
                      {
                        "name": "https://www.venom.movie",
                        "count": 1
                      },
                      {
                        "name": "3 others",
                        "count": 3
                      }
                    ]
                  }
                },
                {
                  "name": "popularity",
                  "dtype": "float64",
                  "stats": {
                    "unique_count": 5,
                    "nan_count": 0,
                    "min": "157.498",
                    "max": "360.33",
                    "histogram": [
                      {
                        "bin_start": 157.498,
                        "bin_end": 177.78119999999998,
                        "count": 2
                      },
                      {
                        "bin_start": 177.78119999999998,
                        "bin_end": 198.06439999999998,
                        "count": 0
                      },
                      {
                        "bin_start": 198.06439999999998,
                        "bin_end": 218.3476,
                        "count": 0
                      },
                      {
                        "bin_start": 218.3476,
                        "bin_end": 238.6308,
                        "count": 1
                      },
                      {
                        "bin_start": 238.6308,
                        "bin_end": 258.914,
                        "count": 1
                      },
                      {
                        "bin_start": 258.914,
                        "bin_end": 279.1972,
                        "count": 0
                      },
                      {
                        "bin_start": 279.1972,
                        "bin_end": 299.48040000000003,
                        "count": 0
                      },
                      {
                        "bin_start": 299.48040000000003,
                        "bin_end": 319.7636,
                        "count": 0
                      },
                      {
                        "bin_start": 319.7636,
                        "bin_end": 340.04679999999996,
                        "count": 0
                      },
                      {
                        "bin_start": 340.04679999999996,
                        "bin_end": 360.33,
                        "count": 1
                      }
                    ]
                  }
                },
                {
                  "name": "release_date",
                  "dtype": "object",
                  "stats": {
                    "unique_count": 5,
                    "nan_count": 0,
                    "categories": [
                      {
                        "name": "2021-09-15",
                        "count": 1
                      },
                      {
                        "name": "2021-09-30",
                        "count": 1
                      },
                      {
                        "name": "3 others",
                        "count": 3
                      }
                    ]
                  }
                },
                {
                  "name": "overview",
                  "dtype": "object",
                  "stats": {
                    "unique_count": 5,
                    "nan_count": 0,
                    "categories": [
                      {
                        "name": "Paul Atreides, a brilliant and gifted young man born into a great destiny beyond his understanding, must travel to the most dangerous planet in the universe to ensure the future of his family and his people. As malevolent forces explode into conflict over the planet's exclusive supply of the most precious resource in existence-a commodity capable of unlocking humanity's greatest potential-only those who can conquer their fear will survive.",
                        "count": 1
                      },
                      {
                        "name": "After finding a host body in investigative reporter Eddie Brock, the alien symbiote must face a new enemy, Carnage, the alter ego of serial killer Cletus Kasady.",
                        "count": 1
                      },
                      {
                        "name": "3 others",
                        "count": 3
                      }
                    ]
                  }
                },
                {
                  "name": "vote_count",
                  "dtype": "int64",
                  "stats": {
                    "unique_count": 5,
                    "nan_count": 0,
                    "min": "6785",
                    "max": "19470",
                    "histogram": [
                      {
                        "bin_start": 6785,
                        "bin_end": 8053.5,
                        "count": 1
                      },
                      {
                        "bin_start": 8053.5,
                        "bin_end": 9322,
                        "count": 0
                      },
                      {
                        "bin_start": 9322,
                        "bin_end": 10590.5,
                        "count": 2
                      },
                      {
                        "bin_start": 10590.5,
                        "bin_end": 11859,
                        "count": 1
                      },
                      {
                        "bin_start": 11859,
                        "bin_end": 13127.5,
                        "count": 0
                      },
                      {
                        "bin_start": 13127.5,
                        "bin_end": 14396,
                        "count": 0
                      },
                      {
                        "bin_start": 14396,
                        "bin_end": 15664.5,
                        "count": 0
                      },
                      {
                        "bin_start": 15664.5,
                        "bin_end": 16933,
                        "count": 0
                      },
                      {
                        "bin_start": 16933,
                        "bin_end": 18201.5,
                        "count": 0
                      },
                      {
                        "bin_start": 18201.5,
                        "bin_end": 19470,
                        "count": 1
                      }
                    ]
                  }
                },
                {
                  "name": "vote_average",
                  "dtype": "float64",
                  "stats": {
                    "unique_count": 5,
                    "nan_count": 0,
                    "min": "6.799",
                    "max": "8.0",
                    "histogram": [
                      {
                        "bin_start": 6.799,
                        "bin_end": 6.9191,
                        "count": 1
                      },
                      {
                        "bin_start": 6.9191,
                        "bin_end": 7.0392,
                        "count": 0
                      },
                      {
                        "bin_start": 7.0392,
                        "bin_end": 7.1593,
                        "count": 0
                      },
                      {
                        "bin_start": 7.1593,
                        "bin_end": 7.2794,
                        "count": 1
                      },
                      {
                        "bin_start": 7.2794,
                        "bin_end": 7.3995,
                        "count": 0
                      },
                      {
                        "bin_start": 7.3995,
                        "bin_end": 7.5196000000000005,
                        "count": 0
                      },
                      {
                        "bin_start": 7.5196000000000005,
                        "bin_end": 7.6397,
                        "count": 0
                      },
                      {
                        "bin_start": 7.6397,
                        "bin_end": 7.7598,
                        "count": 0
                      },
                      {
                        "bin_start": 7.7598,
                        "bin_end": 7.8799,
                        "count": 1
                      },
                      {
                        "bin_start": 7.8799,
                        "bin_end": 8,
                        "count": 2
                      }
                    ]
                  }
                },
                {
                  "name": "keywords",
                  "dtype": "object",
                  "stats": {
                    "unique_count": 5,
                    "nan_count": 0,
                    "categories": [
                      {
                        "name": "empire, future, epic, army, based on novel or book, prophecy, dystopia, emperor, sand, spice, hallucinogen, treason, baron, revenge, premonition, betrayal, space, water shortage, creature, desert, knife fight, destiny, giant worm, space opera, sand dune, messiah, mother son relationship, giant creature",
                        "count": 1
                      },
                      {
                        "name": "hero, psychopath, superhero, anti hero, villain, based on comic, sequel, creature, fear, aftercreditsstinger, symbiote, carnage, venom character",
                        "count": 1
                      },
                      {
                        "name": "3 others",
                        "count": 3
                      }
                    ]
                  }
                },
                {
                  "name": "cast",
                  "dtype": "object",
                  "stats": {
                    "unique_count": 5,
                    "nan_count": 0,
                    "categories": [
                      {
                        "name": "Timoth\u00e9e Chalamet, Rebecca Ferguson, Oscar Isaac, Jason Momoa, Josh Brolin",
                        "count": 1
                      },
                      {
                        "name": "Tom Hardy, Woody Harrelson, Michelle Williams, Naomie Harris, Reid Scott",
                        "count": 1
                      },
                      {
                        "name": "3 others",
                        "count": 3
                      }
                    ]
                  }
                },
                {
                  "name": "crew",
                  "dtype": "object",
                  "stats": {
                    "unique_count": 5,
                    "nan_count": 0,
                    "categories": [
                      {
                        "name": "Denis Villeneuve, Frank Herbert, Thomas Tull, Kim Herbert, Brian Herbert",
                        "count": 1
                      },
                      {
                        "name": "Avi Arad, Amy Pascal, Matt Tolmach, Robert Richardson, Oliver Scholl",
                        "count": 1
                      },
                      {
                        "name": "3 others",
                        "count": 3
                      }
                    ]
                  }
                },
                {
                  "name": "revenue",
                  "dtype": "int64",
                  "stats": {
                    "unique_count": 5,
                    "nan_count": 0,
                    "min": "61779301",
                    "max": "1921847111",
                    "histogram": [
                      {
                        "bin_start": 61779301,
                        "bin_end": 247786082,
                        "count": 1
                      },
                      {
                        "bin_start": 247786082,
                        "bin_end": 433792863,
                        "count": 2
                      },
                      {
                        "bin_start": 433792863,
                        "bin_end": 619799644,
                        "count": 1
                      },
                      {
                        "bin_start": 619799644,
                        "bin_end": 805806425,
                        "count": 0
                      },
                      {
                        "bin_start": 805806425,
                        "bin_end": 991813206,
                        "count": 0
                      },
                      {
                        "bin_start": 991813206,
                        "bin_end": 1177819987,
                        "count": 0
                      },
                      {
                        "bin_start": 1177819987,
                        "bin_end": 1363826768,
                        "count": 0
                      },
                      {
                        "bin_start": 1363826768,
                        "bin_end": 1549833549,
                        "count": 0
                      },
                      {
                        "bin_start": 1549833549,
                        "bin_end": 1735840330,
                        "count": 0
                      },
                      {
                        "bin_start": 1735840330,
                        "bin_end": 1921847111,
                        "count": 1
                      }
                    ]
                  }
                },
                {
                  "name": "_deepnote_index_column",
                  "dtype": "int64"
                }
              ],
              "rows": [
                {
                  "id": 438631,
                  "imdb_id": "tt1160419",
                  "title": "Dune",
                  "original_language": "en",
                  "original_title": "Dune",
                  "origin_country": "US",
                  "production_companies": "Legendary Pictures",
                  "production_countries": "United States of America",
                  "runtime_in_mins": 155,
                  "spoken_languages": "\u666e\u901a\u8bdd, English",
                  "status": "Released",
                  "tagline": "It begins.",
                  "homepage": "https://www.dunemovie.com/",
                  "popularity": 360.33,
                  "release_date": "2021-09-15",
                  "overview": "Paul Atreides, a brilliant and gifted young man born into a great destiny beyond his understanding, must travel to the most dangerous planet in the universe to ensure the future of his family and his people. As malevolent forces explode into conflict over the planet's exclusive supply of the most precious resource in existence-a commodity capable of unlocking humanity's greatest potential-only those who can conquer their fear will survive.",
                  "vote_count": 11856,
                  "vote_average": 7.782,
                  "keywords": "empire, future, epic, army, based on novel or book, prophecy, dystopia, emperor, sand, spice, hallucinogen, treason, baron, revenge, premonition, betrayal, space, water shortage, creature, desert, knife fight, destiny, giant worm, space opera, sand dune, messiah, mother son relationship, giant creature",
                  "cast": "Timoth\u00e9e Chalamet, Rebecca Ferguson, Oscar Isaac, Jason Momoa, Josh Brolin",
                  "crew": "Denis Villeneuve, Frank Herbert, Thomas Tull, Kim Herbert, Brian Herbert",
                  "revenue": 407573628,
                  "_deepnote_index_column": 0
                },
                {
                  "id": 580489,
                  "imdb_id": "tt7097896",
                  "title": "Venom: Let There Be Carnage",
                  "original_language": "en",
                  "original_title": "Venom: Let There Be Carnage",
                  "origin_country": "US",
                  "production_companies": "Columbia Pictures, Pascal Pictures, Matt Tolmach Productions, Arad Productions",
                  "production_countries": "United States of America",
                  "runtime_in_mins": 97,
                  "spoken_languages": "English, Espa\u00f1ol",
                  "status": "Released",
                  "tagline": "",
                  "homepage": "https://www.venom.movie",
                  "popularity": 240.59,
                  "release_date": "2021-09-30",
                  "overview": "After finding a host body in investigative reporter Eddie Brock, the alien symbiote must face a new enemy, Carnage, the alter ego of serial killer Cletus Kasady.",
                  "vote_count": 9708,
                  "vote_average": 6.799,
                  "keywords": "hero, psychopath, superhero, anti hero, villain, based on comic, sequel, creature, fear, aftercreditsstinger, symbiote, carnage, venom character",
                  "cast": "Tom Hardy, Woody Harrelson, Michelle Williams, Naomie Harris, Reid Scott",
                  "crew": "Avi Arad, Amy Pascal, Matt Tolmach, Robert Richardson, Oliver Scholl",
                  "revenue": 506900000,
                  "_deepnote_index_column": 1
                },
                {
                  "id": 634649,
                  "imdb_id": "tt10872600",
                  "title": "Spider-Man: No Way Home",
                  "original_language": "en",
                  "original_title": "Spider-Man: No Way Home",
                  "origin_country": "US",
                  "production_companies": "Marvel Studios, Pascal Pictures, Columbia Pictures",
                  "production_countries": "United States of America",
                  "runtime_in_mins": 148,
                  "spoken_languages": "English, ",
                  "status": "Released",
                  "tagline": "The Multiverse unleashed.",
                  "homepage": "https://www.sonypictures.com/movies/spidermannowayhome",
                  "popularity": 226.707,
                  "release_date": "2021-12-15",
                  "overview": "Peter Parker is unmasked and no longer able to separate his normal life from the high-stakes of being a super-hero. When he asks for help from Doctor Strange the stakes become even more dangerous, forcing him to discover what it truly means to be Spider-Man.",
                  "vote_count": 19470,
                  "vote_average": 8,
                  "keywords": "new york city, hero, showdown, magic, loss of loved one, secret identity, superhero, villain, portal, sequel, vigilante, superhero team, alternate reality, masked vigilante, spider web, aftercreditsstinger, duringcreditsstinger, marvel cinematic universe (mcu), fight for justice, teen superhero, superhero teamup, returning hero, crossover, teamwork",
                  "cast": "Tom Holland, Zendaya, Benedict Cumberbatch, Jacob Batalon, Jon Favreau",
                  "crew": "Amy Pascal, Kevin Feige, Jon Watts, Stan Lee, Darren Gilford",
                  "revenue": 1921847111,
                  "_deepnote_index_column": 2
                },
                {
                  "id": 615457,
                  "imdb_id": "tt7888964",
                  "title": "Nobody",
                  "original_language": "en",
                  "original_title": "Nobody",
                  "origin_country": "US",
                  "production_companies": "87North Productions, Odenkirk Provissiero Entertainment, Eighty Two Films",
                  "production_countries": "United States of America",
                  "runtime_in_mins": 92,
                  "spoken_languages": "English, P\u0443\u0441\u0441\u043a\u0438\u0439, Espa\u00f1ol",
                  "status": "Released",
                  "tagline": "Never underestimate a nobody",
                  "homepage": "https://www.nobody.movie",
                  "popularity": 157.498,
                  "release_date": "2021-03-18",
                  "overview": "Hutch Mansell, a suburban dad, overlooked husband, nothing neighbor \u2014 a \"nobody.\" When two thieves break into his home one night, Hutch's unknown long-simmering rage is ignited and propels him on a brutal path that will uncover dark secrets he fought to leave behind.",
                  "vote_count": 6785,
                  "vote_average": 7.968,
                  "keywords": "assassin, double life, midlife crisis, bratva (russian mafia), secret organization, thief, home invasion, family, duringcreditsstinger",
                  "cast": "Bob Odenkirk, Aleksey Serebryakov, Connie Nielsen, Christopher Lloyd, Michael Ironside",
                  "crew": "Ilya Naishuller, Bob Odenkirk, Braden Aftergood, Marc Provissiero, Derek Kolstad",
                  "revenue": 61779301,
                  "_deepnote_index_column": 3
                },
                {
                  "id": 497698,
                  "imdb_id": "tt3480822",
                  "title": "Black Widow",
                  "original_language": "en",
                  "original_title": "Black Widow",
                  "origin_country": "US",
                  "production_companies": "Marvel Studios",
                  "production_countries": "United States of America",
                  "runtime_in_mins": 134,
                  "spoken_languages": "English, P\u0443\u0441\u0441\u043a\u0438\u0439",
                  "status": "Released",
                  "tagline": "Her world. Her secrets. Her legacy.",
                  "homepage": "https://www.marvel.com/movies/black-widow",
                  "popularity": 165.419,
                  "release_date": "2021-07-07",
                  "overview": "Natasha Romanoff, also known as Black Widow, confronts the darker parts of her ledger when a dangerous conspiracy with ties to her past arises. Pursued by a force that will stop at nothing to bring her down, Natasha must deal with her history as a spy and the broken relationships left in her wake long before she became an Avenger.",
                  "vote_count": 9853,
                  "vote_average": 7.254,
                  "keywords": "assassin, hero, spy, kgb, based on comic, female assassin, female spy, female hero, aftercreditsstinger, marvel cinematic universe (mcu), woman director",
                  "cast": "Scarlett Johansson, Florence Pugh, Rachel Weisz, David Harbour, Ray Winstone",
                  "crew": "Kevin Feige, Louis D'Esposito, Victoria Alonso, Brad Winderbaum, Cate Shortland",
                  "revenue": 379751131,
                  "_deepnote_index_column": 4
                }
              ]
            },
            "text/plain": "       id     imdb_id                        title original_language  \\\n0  438631   tt1160419                         Dune                en   \n1  580489   tt7097896  Venom: Let There Be Carnage                en   \n2  634649  tt10872600      Spider-Man: No Way Home                en   \n3  615457   tt7888964                       Nobody                en   \n4  497698   tt3480822                  Black Widow                en   \n\n                original_title origin_country  \\\n0                         Dune             US   \n1  Venom: Let There Be Carnage             US   \n2      Spider-Man: No Way Home             US   \n3                       Nobody             US   \n4                  Black Widow             US   \n\n                                production_companies  \\\n0                                 Legendary Pictures   \n1  Columbia Pictures, Pascal Pictures, Matt Tolma...   \n2  Marvel Studios, Pascal Pictures, Columbia Pict...   \n3  87North Productions, Odenkirk Provissiero Ente...   \n4                                     Marvel Studios   \n\n       production_countries  runtime_in_mins           spoken_languages  ...  \\\n0  United States of America              155               \u666e\u901a\u8bdd, English  ...   \n1  United States of America               97           English, Espa\u00f1ol  ...   \n2  United States of America              148                  English,   ...   \n3  United States of America               92  English, P\u0443\u0441\u0441\u043a\u0438\u0439, Espa\u00f1ol  ...   \n4  United States of America              134           English, P\u0443\u0441\u0441\u043a\u0438\u0439  ...   \n\n                                            homepage popularity release_date  \\\n0                         https://www.dunemovie.com/    360.330   2021-09-15   \n1                            https://www.venom.movie    240.590   2021-09-30   \n2  https://www.sonypictures.com/movies/spidermann...    226.707   2021-12-15   \n3                           https://www.nobody.movie    157.498   2021-03-18   \n4          https://www.marvel.com/movies/black-widow    165.419   2021-07-07   \n\n                                            overview vote_count vote_average  \\\n0  Paul Atreides, a brilliant and gifted young ma...      11856        7.782   \n1  After finding a host body in investigative rep...       9708        6.799   \n2  Peter Parker is unmasked and no longer able to...      19470        8.000   \n3  Hutch Mansell, a suburban dad, overlooked husb...       6785        7.968   \n4  Natasha Romanoff, also known as Black Widow, c...       9853        7.254   \n\n                                            keywords  \\\n0  empire, future, epic, army, based on novel or ...   \n1  hero, psychopath, superhero, anti hero, villai...   \n2  new york city, hero, showdown, magic, loss of ...   \n3  assassin, double life, midlife crisis, bratva ...   \n4  assassin, hero, spy, kgb, based on comic, fema...   \n\n                                                cast  \\\n0  Timoth\u00e9e Chalamet, Rebecca Ferguson, Oscar Isa...   \n1  Tom Hardy, Woody Harrelson, Michelle Williams,...   \n2  Tom Holland, Zendaya, Benedict Cumberbatch, Ja...   \n3  Bob Odenkirk, Aleksey Serebryakov, Connie Niel...   \n4  Scarlett Johansson, Florence Pugh, Rachel Weis...   \n\n                                                crew     revenue  \n0  Denis Villeneuve, Frank Herbert, Thomas Tull, ...   407573628  \n1  Avi Arad, Amy Pascal, Matt Tolmach, Robert Ric...   506900000  \n2  Amy Pascal, Kevin Feige, Jon Watts, Stan Lee, ...  1921847111  \n3  Ilya Naishuller, Bob Odenkirk, Braden Aftergoo...    61779301  \n4  Kevin Feige, Louis D'Esposito, Victoria Alonso...   379751131  \n\n[5 rows x 22 columns]",
            "text/html": "<div>\n<style scoped>\n    .dataframe tbody tr th:only-of-type {\n        vertical-align: middle;\n    }\n\n    .dataframe tbody tr th {\n        vertical-align: top;\n    }\n\n    .dataframe thead th {\n        text-align: right;\n    }\n</style>\n<table border=\"1\" class=\"dataframe\">\n  <thead>\n    <tr style=\"text-align: right;\">\n      <th></th>\n      <th>id</th>\n      <th>imdb_id</th>\n      <th>title</th>\n      <th>original_language</th>\n      <th>original_title</th>\n      <th>origin_country</th>\n      <th>production_companies</th>\n      <th>production_countries</th>\n      <th>runtime_in_mins</th>\n      <th>spoken_languages</th>\n      <th>...</th>\n      <th>homepage</th>\n      <th>popularity</th>\n      <th>release_date</th>\n      <th>overview</th>\n      <th>vote_count</th>\n      <th>vote_average</th>\n      <th>keywords</th>\n      <th>cast</th>\n      <th>crew</th>\n      <th>revenue</th>\n    </tr>\n  </thead>\n  <tbody>\n    <tr>\n      <th>0</th>\n      <td>438631</td>\n      <td>tt1160419</td>\n      <td>Dune</td>\n      <td>en</td>\n      <td>Dune</td>\n      <td>US</td>\n      <td>Legendary Pictures</td>\n      <td>United States of America</td>\n      <td>155</td>\n      <td>\u666e\u901a\u8bdd, English</td>\n      <td>...</td>\n      <td>https://www.dunemovie.com/</td>\n      <td>360.330</td>\n      <td>2021-09-15</td>\n      <td>Paul Atreides, a brilliant and gifted young ma...</td>\n      <td>11856</td>\n      <td>7.782</td>\n      <td>empire, future, epic, army, based on novel or ...</td>\n      <td>Timoth\u00e9e Chalamet, Rebecca Ferguson, Oscar Isa...</td>\n      <td>Denis Villeneuve, Frank Herbert, Thomas Tull, ...</td>\n      <td>407573628</td>\n    </tr>\n    <tr>\n      <th>1</th>\n      <td>580489</td>\n      <td>tt7097896</td>\n      <td>Venom: Let There Be Carnage</td>\n      <td>en</td>\n      <td>Venom: Let There Be Carnage</td>\n      <td>US</td>\n      <td>Columbia Pictures, Pascal Pictures, Matt Tolma...</td>\n      <td>United States of America</td>\n      <td>97</td>\n      <td>English, Espa\u00f1ol</td>\n      <td>...</td>\n      <td>https://www.venom.movie</td>\n      <td>240.590</td>\n      <td>2021-09-30</td>\n      <td>After finding a host body in investigative rep...</td>\n      <td>9708</td>\n      <td>6.799</td>\n      <td>hero, psychopath, superhero, anti hero, villai...</td>\n      <td>Tom Hardy, Woody Harrelson, Michelle Williams,...</td>\n      <td>Avi Arad, Amy Pascal, Matt Tolmach, Robert Ric...</td>\n      <td>506900000</td>\n    </tr>\n    <tr>\n      <th>2</th>\n      <td>634649</td>\n      <td>tt10872600</td>\n      <td>Spider-Man: No Way Home</td>\n      <td>en</td>\n      <td>Spider-Man: No Way Home</td>\n      <td>US</td>\n      <td>Marvel Studios, Pascal Pictures, Columbia Pict...</td>\n      <td>United States of America</td>\n      <td>148</td>\n      <td>English,</td>\n      <td>...</td>\n      <td>https://www.sonypictures.com/movies/spidermann...</td>\n      <td>226.707</td>\n      <td>2021-12-15</td>\n      <td>Peter Parker is unmasked and no longer able to...</td>\n      <td>19470</td>\n      <td>8.000</td>\n      <td>new york city, hero, showdown, magic, loss of ...</td>\n      <td>Tom Holland, Zendaya, Benedict Cumberbatch, Ja...</td>\n      <td>Amy Pascal, Kevin Feige, Jon Watts, Stan Lee, ...</td>\n      <td>1921847111</td>\n    </tr>\n    <tr>\n      <th>3</th>\n      <td>615457</td>\n      <td>tt7888964</td>\n      <td>Nobody</td>\n      <td>en</td>\n      <td>Nobody</td>\n      <td>US</td>\n      <td>87North Productions, Odenkirk Provissiero Ente...</td>\n      <td>United States of America</td>\n      <td>92</td>\n      <td>English, P\u0443\u0441\u0441\u043a\u0438\u0439, Espa\u00f1ol</td>\n      <td>...</td>\n      <td>https://www.nobody.movie</td>\n      <td>157.498</td>\n      <td>2021-03-18</td>\n      <td>Hutch Mansell, a suburban dad, overlooked husb...</td>\n      <td>6785</td>\n      <td>7.968</td>\n      <td>assassin, double life, midlife crisis, bratva ...</td>\n      <td>Bob Odenkirk, Aleksey Serebryakov, Connie Niel...</td>\n      <td>Ilya Naishuller, Bob Odenkirk, Braden Aftergoo...</td>\n      <td>61779301</td>\n    </tr>\n    <tr>\n      <th>4</th>\n      <td>497698</td>\n      <td>tt3480822</td>\n      <td>Black Widow</td>\n      <td>en</td>\n      <td>Black Widow</td>\n      <td>US</td>\n      <td>Marvel Studios</td>\n      <td>United States of America</td>\n      <td>134</td>\n      <td>English, P\u0443\u0441\u0441\u043a\u0438\u0439</td>\n      <td>...</td>\n      <td>https://www.marvel.com/movies/black-widow</td>\n      <td>165.419</td>\n      <td>2021-07-07</td>\n      <td>Natasha Romanoff, also known as Black Widow, c...</td>\n      <td>9853</td>\n      <td>7.254</td>\n      <td>assassin, hero, spy, kgb, based on comic, fema...</td>\n      <td>Scarlett Johansson, Florence Pugh, Rachel Weis...</td>\n      <td>Kevin Feige, Louis D'Esposito, Victoria Alonso...</td>\n      <td>379751131</td>\n    </tr>\n  </tbody>\n</table>\n<p>5 rows \u00d7 22 columns</p>\n</div>"
          },
          "metadata": {}
        }
      ]
    },
    {
      "cell_type": "code",
      "metadata": {
        "source_hash": null,
        "execution_start": 1717943138795,
        "execution_millis": 41,
        "deepnote_to_be_reexecuted": false,
        "deepnote_app_block_visible": true,
        "cell_id": "b37361e711774938bfb1b21089c3795b",
        "deepnote_cell_type": "code"
      },
      "source": "",
      "execution_count": null,
      "outputs": []
    },
    {
      "cell_type": "markdown",
      "source": "<a style='text-decoration:none;line-height:16px;display:flex;color:#5B5B62;padding:10px;justify-content:end;' href='https://deepnote.com?utm_source=created-in-deepnote-cell&projectId=8a1d676e-e27b-404d-bfd5-87d0888f3dfd' target=\"_blank\">\n<img alt='Created in deepnote.com' style='display:inline;max-height:16px;margin:0px;margin-right:7.5px;' src='data:image/svg+xml;base64,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' > </img>\nCreated in <span style='font-weight:600;margin-left:4px;'>Deepnote</span></a>",
      "metadata": {
        "created_in_deepnote_cell": true,
        "deepnote_cell_type": "markdown"
      }
    }
  ],
  "nbformat": 4,
  "nbformat_minor": 0,
  "metadata": {
    "deepnote_persisted_session": {
      "createdAt": "2024-06-09T15:00:28.039Z"
    },
    "deepnote_app_clear_outputs": false,
    "deepnote_app_layout": "powerful-article",
    "deepnote_app_reactivity_enabled": true,
    "deepnote_notebook_id": "b54b8c8c67044eacbb478639791a62ed",
    "deepnote_execution_queue": []
  }
}